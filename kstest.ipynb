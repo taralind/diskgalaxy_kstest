{
 "cells": [
  {
   "cell_type": "markdown",
   "metadata": {},
   "source": [
    "# Statistical Analysis of Disk-Hosting Radio Galaxies: Unveiling Distribution Disparities through the Two-Sample Kolmogorov-Smirnov Test"
   ]
  },
  {
   "cell_type": "markdown",
   "metadata": {},
   "source": [
    "Disk-hosting galaxies (spirals or lenticulars) that exhibit large-scale radio emission are extremely rare and under-researched. Within our broader, unpublished research project, we have collated every currently known disk-hosting radio galaxy in the Universe (n=34) together to analyse as a population. One of these analyses was the two-sample Kolmogorov-Smirnov (KS) test. This is a powerful statistical test that allows the underlying probability distributions of different datasets to be investigated and compared. When conducting this test, we aim to discern whether the currently known sample of disk-hosting radio galaxies exhibits statistical similarities or differences when compared to the extensive samples of other types of radio galaxies; ellipticals, FR-Is, FR-IIs and Seyferts. This notebook documents the process of conducting this analysis. "
   ]
  },
  {
   "cell_type": "markdown",
   "metadata": {},
   "source": [
    "## Disk-hosting galaxies vs. Ellipticals"
   ]
  },
  {
   "cell_type": "code",
   "execution_count": 3,
   "metadata": {},
   "outputs": [],
   "source": [
    "# import appropriate packages\n",
    "from scipy.stats import ks_2samp\n",
    "import numpy as np\n",
    "from astropy.table import Table\n",
    "import pandas as pd"
   ]
  },
  {
   "cell_type": "markdown",
   "metadata": {},
   "source": [
    "In the literature, numerous studies have generated extensive datasets of elliptical radio galaxies (as apposed to disk-hosting radio galaxies). For each of these studies, we calculated two crucial metrics, the largest linear size (LLS, in kpc) and radio power at 325MHz (in W/Hz), for the identified galaxies. These data were organised into text files, which are subsequently loaded in the following code segment. Specifically, the code extracts LLS and power values from the text files, creating separate arrays for each study. \n",
    "\n",
    "The next step involves concatenating the LLS and power arrays from every survey. Notably, all galaxies in each study, with the exception of 'Laing,' are categorized as Giant Radio Galaxies (GRGs), indicating that their LLS is 700 kpc or greater. Consequently, we additionally form exclusive arrays of power and size data for these GRGs."
   ]
  },
  {
   "cell_type": "code",
   "execution_count": 18,
   "metadata": {},
   "outputs": [],
   "source": [
    "# load in data\n",
    "Dabhade2020_LLS,Dabhade2020_Pow = np.loadtxt('Dabhade2020GRGs.txt', delimiter='\\t', unpack=True)\n",
    "Dabhade2017_LLS, Dabhade2017_Pow = np.loadtxt('GRG_Dabhade_rg.txt', delimiter=',', unpack=True)\n",
    "Pre1998_LLS, Pre1998_Pow = np.loadtxt('GRG_pre1998_rg.txt', delimiter=',', unpack=True)\n",
    "Shoe_LLS, Shoe_Pow = np.loadtxt('GRG_Shoenmakers_rg.txt', delimiter=',', unpack=True)\n",
    "Saripalli_LLS, Saripalli_Pow = np.loadtxt('GRG_Saripalli_rg.txt', delimiter=',', unpack=True)\n",
    "Laing_LLS, Laing_Pow = np.loadtxt('RG_Laing_rg_bigones.txt', delimiter=',', unpack=True)\n",
    "Bootes_LLS, Bootes_Pow = np.loadtxt('bootes2022GRGcalcs.txt', delimiter='\\t', unpack=True, usecols=(1,6))\n",
    "\n",
    "# power\n",
    "Ell_Pow = np.concatenate((Dabhade2020_Pow,Dabhade2017_Pow,Pre1998_Pow,Shoe_Pow,Saripalli_Pow,Laing_Pow,Bootes_Pow))\n",
    "GiantEll_Pow = np.concatenate((Dabhade2020_Pow,Dabhade2017_Pow,Pre1998_Pow,Shoe_Pow,Saripalli_Pow,Bootes_Pow))\n",
    "\n",
    "# LLS\n",
    "Ell_LLS = np.concatenate((Dabhade2020_LLS,Dabhade2017_LLS,Pre1998_LLS,Shoe_LLS,Saripalli_LLS,Laing_LLS,Bootes_LLS))\n",
    "GiantEll_LLS = np.concatenate((Dabhade2020_LLS,Dabhade2017_LLS,Pre1998_LLS,Shoe_LLS,Saripalli_LLS,Bootes_LLS))"
   ]
  },
  {
   "cell_type": "markdown",
   "metadata": {},
   "source": [
    "Similar to the elliptical galaxies, we have computed the 325MHz power and LLS of the 34 currently known disk-hosting radio galaxies. Their morphological classification— either spiral 'S' or a lenticular 'L' —is also included.\n",
    "\n",
    "We create size and power arrays for the full population, then for the GRG, spiral and lenticular subgroups. "
   ]
  },
  {
   "cell_type": "code",
   "execution_count": 5,
   "metadata": {},
   "outputs": [],
   "source": [
    "disks = pd.read_csv('Disks.txt', delimiter=',')\n",
    "\n",
    "# full disk population\n",
    "Disk_LLS = disks['LLS'].to_numpy()\n",
    "Disk_Pow = disks['P_325MHz'].to_numpy()\n",
    "\n",
    "# GRG disks \n",
    "giantdisks = disks[disks['LLS'] >= 700]\n",
    "\n",
    "GiantDisk_LLS = giantdisks['LLS'].to_numpy()\n",
    "GiantDisk_Pow = giantdisks['P_325MHz'].to_numpy()\n",
    "\n",
    "# spirals\n",
    "spirals = disks[disks['Morphology'] == 'S']\n",
    "\n",
    "Spirals_LLS = spirals['LLS'].to_numpy()\n",
    "Spirals_Pow = spirals['P_325MHz'].to_numpy()\n",
    "\n",
    "# lenticulars\n",
    "lenticulars = disks[disks['Morphology'] == 'L']\n",
    "\n",
    "Lenticulars_LLS = lenticulars['LLS'].to_numpy()\n",
    "Lenticulars_Pow = lenticulars['P_325MHz'].to_numpy()"
   ]
  },
  {
   "cell_type": "markdown",
   "metadata": {},
   "source": [
    "We now initiate the two-sample KS test on our data. The null hypothesis of this test posits that the two samples in question are drawn from the same distribution. In accordance with our predetermined significance level of 0.05, if the calculated p-values fall below this threshold, we reject the null hypothesis in favour of the alternative hypothesis, which indicates that the two samples originate from distinct underlying distributions.\n",
    "\n",
    "Initially, we perform a one-dimensional KS test, comparing disk and elliptical samples based on a single metric—either LLS or power. The function ks_2samp facilitates this test and provides the resulting p-value for our analysis."
   ]
  },
  {
   "cell_type": "code",
   "execution_count": 6,
   "metadata": {
    "scrolled": true
   },
   "outputs": [
    {
     "name": "stdout",
     "output_type": "stream",
     "text": [
      "Test 1- LLS: Disk GRGs and Elliptical GRGs p-value = 6.286e-01\n",
      "Test 2- Power: Disk GRGs and Elliptical GRGs p-value = 3.109e-07\n",
      "Test 3- Power: Disks and Ellipticals p-value = 3.699e-15\n",
      "Test 4- Power: Lenticulars and Spirals p-value = 4.339e-01\n"
     ]
    }
   ],
   "source": [
    "print(\"Test 1- LLS: Disk GRGs and Elliptical GRGs p-value =\", \"{:.3e}\".format(ks_2samp(GiantDisk_LLS,GiantEll_LLS).pvalue))\n",
    "print(\"Test 2- Power: Disk GRGs and Elliptical GRGs p-value =\", \"{:.3e}\".format(ks_2samp(GiantDisk_Pow, GiantEll_Pow).pvalue))\n",
    "print(\"Test 3- Power: Disks and Ellipticals p-value =\", \"{:.3e}\".format(ks_2samp(Disk_Pow, Ell_Pow).pvalue))\n",
    "print(\"Test 4- Power: Lenticulars and Spirals p-value =\", \"{:.3e}\".format(ks_2samp(Lenticulars_Pow, Spirals_Pow).pvalue))"
   ]
  },
  {
   "cell_type": "markdown",
   "metadata": {},
   "source": [
    "In test 1, we assess the LLS metric between disk and elliptical GRGs. The obtained p-value exceeds our significance level, therefore we do not reject the null hypothesis.\n",
    "\n",
    "In test 2, where we assess the power metric between disk and elliptical GRGs, the resulting p-value falls below the significance level. Consequently, we reject the null hypothesis in favour of the alternative hypothesis.\n",
    "\n",
    "Test 3 focuses on comparing the power metric between the entire samples of disk and elliptical galaxies. The resulting p-value is less than the significance level, prompting the rejection of the null hypothesis in favour of the alternative.\n",
    "\n",
    "Finally, test 4, explores the potential differences between the power of lenticulars and spirals. Since the resulting p-value is greater than the significance level, we do not reject the null hypothesis in this instance.\n",
    "\n",
    "The findings suggest a similarity between elliptical and disk populations concerning their LLS. However, a notable distinction emerges in terms of power, implying differing distributions between these two groups. On the other hand, no significant difference between lenticulars and spirals is revealed, indicating a similarity in the underlying distribution of power for these types of disk-hosting galaxies."
   ]
  },
  {
   "cell_type": "markdown",
   "metadata": {},
   "source": [
    "We now transition to the 2-dimensional KS test, which enables the assessment of our two metrics- LLS and power simultaneously. We test the potential differences in the underlying distributions between both the GRG samples and the full samples. The function utilised is retrieved from: https://github.com/syrte/ndtest."
   ]
  },
  {
   "cell_type": "code",
   "execution_count": 7,
   "metadata": {
    "scrolled": true
   },
   "outputs": [
    {
     "name": "stdout",
     "output_type": "stream",
     "text": [
      "p_value_all = 2.81e-11\n",
      "p_value_giant = 9.01e-05\n"
     ]
    }
   ],
   "source": [
    "import ndtest\n",
    "\n",
    "# all disks and ellipticals\n",
    "p_value_all = ndtest.ks2d2s(Ell_LLS, Ell_Pow, Disk_LLS, Disk_Pow, extra=False)\n",
    "print(f\"{p_value_all = :.3g}\")\n",
    "\n",
    "# disk GRGs and elliptical GRGs\n",
    "p_value_giant = ndtest.ks2d2s(GiantEll_LLS, GiantEll_Pow, GiantDisk_LLS, GiantDisk_Pow, extra=False)\n",
    "print(f\"{p_value_giant = :.3g}\")"
   ]
  },
  {
   "cell_type": "markdown",
   "metadata": {},
   "source": [
    "Both resulting p-values for these tests fall below the significance level of 0.05. We therefore reject the null hypothesis in favour of the alternative hypothesis, indicating significant differences in the underlying distributions when both LLS and power is considered. These results underscore the presence of statistically distinct characteristics between disk-hosting radio galaxies and elliptical radio galaxies. "
   ]
  },
  {
   "cell_type": "markdown",
   "metadata": {},
   "source": [
    "## Disk-hosting galaxies vs. FR-I and FR-IIs"
   ]
  },
  {
   "cell_type": "markdown",
   "metadata": {},
   "source": [
    "Radio galaxies can be traditionally be classifed into FR-I and FR-II categories based on their radio morphology, with some literature proposing that the dichotomy can be formulated with the magnitude of the host galaxy and the power of the radio lobes. Our next objective is to compare our disk-hosting galaxies with these established FR-I and FR-II categories by focusing on power and magnitude metrics. \n",
    "\n",
    "We have acquired an FR-I and FR-II sample, however 325MHz power is not provided and must be calculated from the 178MHz flux, which is available, to enable a meaningful comparison to our disk-hosting galaxies. "
   ]
  },
  {
   "cell_type": "code",
   "execution_count": 8,
   "metadata": {},
   "outputs": [],
   "source": [
    "# load in FR-I/FR-II sample\n",
    "frtable = Table.read('laing.vot')\n",
    "frtable = frtable.to_pandas()\n",
    "frtable = frtable.dropna(subset=['Bmag']) # remove rows with no magnitude value\n",
    "\n",
    "# convert to 178MHz flux to 325MHz flux assuming a radio spectral index of -0.7\n",
    "frtable['S325'] = (325 / 178) ** (-0.7) * frtable['S178']"
   ]
  },
  {
   "cell_type": "markdown",
   "metadata": {},
   "source": [
    "Now equipped with the 325MHz flux, we proceed to compute the 325MHz power using the formula outlined in https://iopscience.iop.org/article/10.1088/2041-8205/714/2/L190. This calculation necessitates the determination of the luminosity distance, given in metres. To calculate this key value, we develop a dedicated function utilising functions from the astropy package. "
   ]
  },
  {
   "cell_type": "code",
   "execution_count": 9,
   "metadata": {},
   "outputs": [],
   "source": [
    "from astropy.cosmology import FlatLambdaCDM\n",
    "\n",
    "def calculate_DL_Mpc(z):\n",
    "    \"\"\"Luminosity distance (DL) calculator. Result is in Mpc. \n",
    "       z: redshift\n",
    "    \"\"\"\n",
    "    cosmo = FlatLambdaCDM(H0=69.6, Om0=0.286)\n",
    "    DL_Mpc = cosmo.luminosity_distance(z).to_value()\n",
    "    return DL_Mpc\n",
    "\n",
    "frtable['DL_Mpc'] = frtable['z'].apply(calculate_DL_Mpc)\n",
    "\n",
    "frtable['DL_m'] = frtable['DL_Mpc'] * 3.086e+22 # convert DL from Mpc to m\n",
    "\n",
    "# calculate the 325MHz power\n",
    "frtable['P_325MHz'] = 4 * np.pi * frtable['DL_m']**2 / (1 + frtable['z'])**1.7 * frtable['S325'] * 1e-26"
   ]
  },
  {
   "cell_type": "markdown",
   "metadata": {},
   "source": [
    "Next, we partition the FR-I and FR-II galaxies into separate data sets, then create arrays of 325MHz power and magnitude for each class. "
   ]
  },
  {
   "cell_type": "code",
   "execution_count": 10,
   "metadata": {},
   "outputs": [],
   "source": [
    "fr_i_df = frtable[frtable['FR'] == 'I']\n",
    "fr_ii_df = frtable[frtable['FR'] == 'II']\n",
    "\n",
    "FRI_Pow = np.array(fr_i_df['P_325MHz'])\n",
    "FRI_Mag = np.array(fr_i_df['Bmag'])\n",
    "FRII_Pow = np.array(fr_ii_df['P_325MHz'])\n",
    "FRII_Mag = np.array(fr_ii_df['Bmag'])"
   ]
  },
  {
   "cell_type": "markdown",
   "metadata": {},
   "source": [
    "Within our previously loaded data set of disk-hosting radio galaxies, magnitudes are provided for most of the galaxies. We extract both the magnitudes and powers of this sample into their respective arrays.   "
   ]
  },
  {
   "cell_type": "code",
   "execution_count": 11,
   "metadata": {},
   "outputs": [],
   "source": [
    "disks_subset = disks[~disks['Bmag'].isna()]\n",
    "\n",
    "Disk_Mag = disks_subset['Bmag'].to_numpy()\n",
    "Diskswithmag_Pow = disks_subset['P_325MHz'].to_numpy()"
   ]
  },
  {
   "cell_type": "markdown",
   "metadata": {},
   "source": [
    "We now proceed with the 2-dimensional KS test to compare the power and magnitude of disk-hosting galaxies to both FR-Is and FR-IIs. "
   ]
  },
  {
   "cell_type": "code",
   "execution_count": 12,
   "metadata": {
    "scrolled": true
   },
   "outputs": [
    {
     "name": "stdout",
     "output_type": "stream",
     "text": [
      "p_value_frI = 0.00026\n",
      "p_value_frII = 3.03e-11\n"
     ]
    }
   ],
   "source": [
    "# disks and FR-Is\n",
    "p_value_frI = ndtest.ks2d2s(FRI_Pow, FRI_Mag, Diskswithmag_Pow, Disk_Mag, extra=False)\n",
    "print(f\"{p_value_frI = :.3g}\")\n",
    "\n",
    "# disks and FR-IIs\n",
    "p_value_frII = ndtest.ks2d2s(FRII_Pow, FRII_Mag, Diskswithmag_Pow, Disk_Mag, extra=False)\n",
    "print(f\"{p_value_frII = :.3g}\")"
   ]
  },
  {
   "cell_type": "markdown",
   "metadata": {},
   "source": [
    "Similar to the 2-dimensional test between disks and ellipticals, both the resulting p-values for the tests between disks and FR-Is and FR-IIs fall below the significance level of 0.05. We therefore reject the null hypothesis in favour of the alternative hypothesis. This indicates that disk-hosting radio galaxies have statistically distinct characteristics to FR-I and FR-II galaxies."
   ]
  },
  {
   "cell_type": "markdown",
   "metadata": {},
   "source": [
    "## Disk-hosting galaxies vs. Seyferts"
   ]
  },
  {
   "cell_type": "markdown",
   "metadata": {},
   "source": [
    "Seyfert galaxies constitute another type of radio galaxy and are typically hosted by spirals. To compare these galaxies to our disk-hosting galaxies, we first obtained a catalog of Seyferts, presented in the files 'sycata1.vot' and 'sycata2.vot'. The first file contains the NVSS name and ID for each galaxy, while the second table includes the ID, redshift and the luminosity distance. We require information from both of these files, and therefore merge them together based on their ID.  "
   ]
  },
  {
   "cell_type": "code",
   "execution_count": 13,
   "metadata": {
    "scrolled": true
   },
   "outputs": [],
   "source": [
    "seyferttable1 = Table.read('sycata1.vot').to_pandas()\n",
    "seyferttable2 = Table.read('sycata2.vot').to_pandas()\n",
    "seyferts = pd.merge(seyferttable1, seyferttable2, on=\"ID\")"
   ]
  },
  {
   "cell_type": "markdown",
   "metadata": {},
   "source": [
    "Additionally, we need the 325MHz power for these Seyfert galaxies. Leveraging the NVSS catalog of radio emissions, which contains 1400MHz flux data alongside NVSS names, we can facilitate a cross-match process. This cross-match allows us to integrate the 1400MHz flux values from the NVSS catalog into the Seyfert catalog."
   ]
  },
  {
   "cell_type": "code",
   "execution_count": 14,
   "metadata": {
    "scrolled": true
   },
   "outputs": [],
   "source": [
    "nvss = Table.read('nvsscatalog.vot').to_pandas()\n",
    "\n",
    "# making the NVSS names from the seyferts catalog compatible with those from the NVSS catalog\n",
    "seyferts['NVSS'].replace('', pd.NA, inplace=True)\n",
    "seyferts = seyferts.dropna(subset=['NVSS'])\n",
    "seyferts['NVSS'] = seyferts['NVSS'].str[5:]\n",
    "\n",
    "# cross-matching seyferts and NVSS catalog\n",
    "seyferts = pd.merge(seyferts, nvss, on=\"NVSS\")"
   ]
  },
  {
   "cell_type": "markdown",
   "metadata": {},
   "source": [
    "Subsequently, we follow a similar method as employed above for the FR-I/FR-IIs to convert the 1400MHz flux into 325MHz flux, and further into 325MHz power. "
   ]
  },
  {
   "cell_type": "code",
   "execution_count": 15,
   "metadata": {},
   "outputs": [],
   "source": [
    "seyferts['S325'] = (325 / 1400) ** (-0.7) * seyferts['S1.4'] # assuming alpha = -0.7\n",
    "seyferts['DL_m'] = seyferts['LD'] * 3.086e+22 # converting luminosity distance from Mpc to m\n",
    "seyferts['P_325MHz'] = 4 * np.pi * seyferts['DL_m']**2 / (1 + seyferts['z'])**1.7 * seyferts['S325'] * 1e-29\n",
    "\n",
    "Seyfert_Pow = seyferts['P_325MHz'] "
   ]
  },
  {
   "cell_type": "markdown",
   "metadata": {},
   "source": [
    "With these 325MHz power values, we can proceed to conduct a one-dimensional KS test to compare the powers of Seyferts and disk-hosting radio galaxies. We do not compare LLS values as Seyferts are categorically much smaller. "
   ]
  },
  {
   "cell_type": "code",
   "execution_count": 16,
   "metadata": {
    "scrolled": true
   },
   "outputs": [
    {
     "name": "stdout",
     "output_type": "stream",
     "text": [
      "Power: Disks and Seyferts p-value = 1.120e-12\n"
     ]
    }
   ],
   "source": [
    "print(\"Power: Disks and Seyferts p-value =\", \"{:.3e}\".format(ks_2samp(Disk_Pow, Seyfert_Pow).pvalue))"
   ]
  },
  {
   "cell_type": "markdown",
   "metadata": {},
   "source": [
    "Again, we find that the resulting p-value for this test between disks and Seyferts falls below the significance level of 0.05, thus we reject the null hypothesis in favour of the alternative hypothesis. This suggests that disk-hosting radio galaxies exhibit statistically significant differences in power when compared to Seyfert galaxies."
   ]
  },
  {
   "cell_type": "markdown",
   "metadata": {},
   "source": [
    "In summary, our analysis of the currently known sample of disk-hosting radio galaxies has revealed that this rare and novel class of radio galaxy exhibits statistical differences when compared to the extensive samples of other types of radio galaxies, namely ellipticals, FR-Is, FR-IIs and Seyferts. These findings contribute valuable insights into the unique properties and underlying distributions of disk-hosting radio galaxies in contrast to other radio galaxy classifications."
   ]
  }
 ],
 "metadata": {
  "kernelspec": {
   "display_name": "Python 3 (ipykernel)",
   "language": "python",
   "name": "python3"
  },
  "language_info": {
   "codemirror_mode": {
    "name": "ipython",
    "version": 3
   },
   "file_extension": ".py",
   "mimetype": "text/x-python",
   "name": "python",
   "nbconvert_exporter": "python",
   "pygments_lexer": "ipython3",
   "version": "3.11.3"
  }
 },
 "nbformat": 4,
 "nbformat_minor": 2
}
